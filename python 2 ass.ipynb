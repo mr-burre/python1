{
 "cells": [
  {
   "cell_type": "markdown",
   "id": "266a1e3a-8892-4a4d-b4c2-0b9ba189782c",
   "metadata": {},
   "source": [
    "Discuss String Slicing and Provide Examples."
   ]
  },
  {
   "cell_type": "code",
   "execution_count": 1,
   "id": "f309a8a2-4314-412e-974a-e5e090f365c4",
   "metadata": {},
   "outputs": [],
   "source": [
    "#String slicing in python is about obtaining a sub-string from the string by slicing it from start to end\n",
    "#it can be done in two ways \n",
    "#1st is Using Slice() method\n",
    "#2nd is Using arry slicing [:: : ] method"
   ]
  },
  {
   "cell_type": "raw",
   "id": "065868a7-cc6c-4733-808e-7dd8c674b653",
   "metadata": {},
   "source": [
    "slic() ex:"
   ]
  },
  {
   "cell_type": "code",
   "execution_count": 30,
   "id": "4d0081f8-da10-47c0-8bf9-b53dea93b39f",
   "metadata": {},
   "outputs": [
    {
     "name": "stdout",
     "output_type": "stream",
     "text": [
      "st\n"
     ]
    }
   ],
   "source": [
    "string1 = \"astring1\" # each caractror in value can be identifyed as indicis ex v=0 a=1 l=2 u=3 e=4 the same indicis can be accesed from left to righ with negitive indicis e=-1 u=-2 l=-3 a=-4 v=-5\n",
    "#using slice()\n",
    "s1 = slice(1,3)\n",
    "s2 = slice(2,4)\n",
    "s3 = slice(-1,)\n",
    "\n",
    "print(string1[s1])"
   ]
  },
  {
   "cell_type": "code",
   "execution_count": 31,
   "id": "abdbebd1-7dc3-4a26-84d6-fb1bdbdecb0f",
   "metadata": {},
   "outputs": [
    {
     "name": "stdout",
     "output_type": "stream",
     "text": [
      "tr\n"
     ]
    }
   ],
   "source": [
    "print(string1[s2])"
   ]
  },
  {
   "cell_type": "code",
   "execution_count": 33,
   "id": "3eca587b-3543-4d43-a834-1415bf837b23",
   "metadata": {},
   "outputs": [
    {
     "name": "stdout",
     "output_type": "stream",
     "text": [
      "astring\n"
     ]
    }
   ],
   "source": [
    "print(string1[s3])"
   ]
  },
  {
   "cell_type": "markdown",
   "id": "dfd712b8-4b81-4310-9552-2f498fb02a06",
   "metadata": {},
   "source": [
    "list/ array slicing"
   ]
  },
  {
   "cell_type": "code",
   "execution_count": 39,
   "id": "dade350d-2b58-4450-9df4-8aca69985604",
   "metadata": {},
   "outputs": [
    {
     "name": "stdout",
     "output_type": "stream",
     "text": [
      "Ast\n"
     ]
    }
   ],
   "source": [
    "String1 = \"Astring1\"\n",
    "print(String1[:3]) #will print : Ast"
   ]
  },
  {
   "cell_type": "code",
   "execution_count": 45,
   "id": "ff4675ac-e2cb-4b1a-a9b4-e3e1569626f0",
   "metadata": {},
   "outputs": [
    {
     "name": "stdout",
     "output_type": "stream",
     "text": [
      "tr\n"
     ]
    }
   ],
   "source": [
    "String1 = \"Astring1\"\n",
    "print(String1[2:4]) #will print : Ast"
   ]
  },
  {
   "cell_type": "code",
   "execution_count": 44,
   "id": "29b13d8a-f053-4a6f-81f5-1f8f39f2c66e",
   "metadata": {},
   "outputs": [
    {
     "name": "stdout",
     "output_type": "stream",
     "text": [
      "e\n"
     ]
    }
   ],
   "source": [
    "strings= \"blank eye\"\n",
    "print (strings[-1])"
   ]
  },
  {
   "cell_type": "markdown",
   "id": "e25a40dd-5038-4f42-ac29-9f106c76e329",
   "metadata": {},
   "source": [
    "Q2 : Explain the keyfutures of list in Python?"
   ]
  },
  {
   "cell_type": "code",
   "execution_count": 46,
   "id": "54895da9-05a0-4a9a-b5d5-0ab0d2a9e780",
   "metadata": {},
   "outputs": [],
   "source": [
    "# A list is a collection of objects. it is an ordered collection of objects. the order in which you specify the elements when you define a list is an innate characteristic of the list and is maintained for that listh life time\n",
    "# lists are ordered.\n",
    "# list is defined with []\n",
    "#ex"
   ]
  },
  {
   "cell_type": "code",
   "execution_count": 47,
   "id": "d225f734-8793-4108-b049-d9ce91d18663",
   "metadata": {},
   "outputs": [
    {
     "data": {
      "text/plain": [
       "False"
      ]
     },
     "execution_count": 47,
     "metadata": {},
     "output_type": "execute_result"
    }
   ],
   "source": [
    "a = ['foo', 'bar', 'baz', 'qux']\n",
    "b = ['baz', 'qux', 'bar', 'foo']\n",
    "a == b"
   ]
  },
  {
   "cell_type": "code",
   "execution_count": 48,
   "id": "89dfdb7d-294a-42e9-9f46-025e9a565740",
   "metadata": {},
   "outputs": [
    {
     "data": {
      "text/plain": [
       "False"
      ]
     },
     "execution_count": 48,
     "metadata": {},
     "output_type": "execute_result"
    }
   ],
   "source": [
    "a is b"
   ]
  },
  {
   "cell_type": "code",
   "execution_count": 49,
   "id": "f6541ccd-d228-48df-a25d-bb33a37557aa",
   "metadata": {},
   "outputs": [
    {
     "data": {
      "text/plain": [
       "False"
      ]
     },
     "execution_count": 49,
     "metadata": {},
     "output_type": "execute_result"
    }
   ],
   "source": [
    "[1,2,3,4]==[4,1,3,2]"
   ]
  },
  {
   "cell_type": "raw",
   "id": "7a9ade1b-bbc7-4ba0-a50a-5bbb7e5d4ced",
   "metadata": {},
   "source": [
    "Lists can contain any arbitrary objects.:\n",
    "A list can contain any assortment of objects. The elements of a list can all be the same type Elements can be of varying types \n",
    "ex: a = [2.1,”football”, 3,4,False, 3.52] \n",
    "Lists can even contain complex objects like functions , class, and modules \n",
    "List can contain any number of objects from zero to as many.\n",
    "List objects needn’t be unique, a given object can appear in list multiple times "
   ]
  },
  {
   "cell_type": "raw",
   "id": "c94589ee-4481-4328-a9b8-079e74808393",
   "metadata": {},
   "source": [
    " List elements can be accessed by index.\n",
    "           -6       - 5     -4     -3       -2      -1\n",
    "Ex: a = ['bark', 'meow', 'woof', 'bark', 'cheep', 'bark']\n",
    "           0        1      2        3       4       5\n"
   ]
  },
  {
   "cell_type": "code",
   "execution_count": 51,
   "id": "f0df1358-21d5-4b9c-b9a7-bf53a4372ec3",
   "metadata": {},
   "outputs": [],
   "source": [
    " a = ['bark', 'meow', 'woof', 'bark', 'cheep', 'bark']"
   ]
  },
  {
   "cell_type": "code",
   "execution_count": 52,
   "id": "d330d765-1846-48e1-bd5e-175bc53079ae",
   "metadata": {},
   "outputs": [
    {
     "data": {
      "text/plain": [
       "['bark', 'meow', 'woof', 'bark', 'cheep', 'bark']"
      ]
     },
     "execution_count": 52,
     "metadata": {},
     "output_type": "execute_result"
    }
   ],
   "source": [
    "a"
   ]
  },
  {
   "cell_type": "code",
   "execution_count": 54,
   "id": "b2eabc68-36f3-46ea-b437-7221a51ffbcc",
   "metadata": {},
   "outputs": [
    {
     "name": "stdout",
     "output_type": "stream",
     "text": [
      "meow\n"
     ]
    }
   ],
   "source": [
    "print(a[1])"
   ]
  },
  {
   "cell_type": "code",
   "execution_count": 78,
   "id": "f02b42f4-707b-47fd-9755-37a85495a119",
   "metadata": {},
   "outputs": [],
   "source": [
    "#DESCRIBE HOW TO ACCESS, MODIFY AND DELETE ELEMENTS IN LIST WITH EXAMPLES?\n",
    "#          -7-6-5-4-3   -2    -1\n",
    "#Mylist = [ 1,2,3,4,5,True, \"bharath\"]\n",
    "#           0 1 2 3 4   5      6"
   ]
  },
  {
   "cell_type": "code",
   "execution_count": 98,
   "id": "04f3373e-9594-4718-b770-b8ba16cd927d",
   "metadata": {},
   "outputs": [
    {
     "data": {
      "text/plain": [
       "'cheep'"
      ]
     },
     "execution_count": 98,
     "metadata": {},
     "output_type": "execute_result"
    }
   ],
   "source": [
    "#to access the value in list\n",
    "a = ['bark', 'meow', 'woof', 'bark', 'cheep', 'bark']\n",
    "a[4]"
   ]
  },
  {
   "cell_type": "code",
   "execution_count": 88,
   "id": "63d5f636-8e3f-4131-a0dd-b1de4efb0ce9",
   "metadata": {},
   "outputs": [],
   "source": [
    "#to replace the charactor or value, data in list \n",
    "\n",
    "a[4] = \"coocoducu\""
   ]
  },
  {
   "cell_type": "code",
   "execution_count": 89,
   "id": "00831852-68e7-4034-b2d2-aa3ef2647217",
   "metadata": {},
   "outputs": [
    {
     "data": {
      "text/plain": [
       "['bark', 'meow', 'woof', 'bark', 'coocoducu', 'bark']"
      ]
     },
     "execution_count": 89,
     "metadata": {},
     "output_type": "execute_result"
    }
   ],
   "source": [
    "a"
   ]
  },
  {
   "cell_type": "code",
   "execution_count": 90,
   "id": "4acd3224-e97b-47ff-92b7-ef5ac99ccc67",
   "metadata": {},
   "outputs": [],
   "source": [
    "#to add charactor or value in to the list\n",
    "a.append(\"dum dum\")"
   ]
  },
  {
   "cell_type": "code",
   "execution_count": 91,
   "id": "27db113e-f9a2-4dd5-9dc2-c14619c08290",
   "metadata": {},
   "outputs": [
    {
     "data": {
      "text/plain": [
       "['bark', 'meow', 'woof', 'bark', 'coocoducu', 'bark', 'dum dum']"
      ]
     },
     "execution_count": 91,
     "metadata": {},
     "output_type": "execute_result"
    }
   ],
   "source": [
    "a"
   ]
  },
  {
   "cell_type": "code",
   "execution_count": 100,
   "id": "b615f6be-ad88-471b-962c-4eaa620d4c14",
   "metadata": {},
   "outputs": [],
   "source": [
    "#to remove We can remove elements from the list by passing the value of the item to be deleted as the parameter to remove the () \n",
    "\n",
    "a.remove(\"meow\")"
   ]
  },
  {
   "cell_type": "code",
   "execution_count": 101,
   "id": "1c98e813-1350-423d-973c-8f99d83e4518",
   "metadata": {},
   "outputs": [
    {
     "data": {
      "text/plain": [
       "['bark', 'woof', 'bark', 'cheep', 'bark']"
      ]
     },
     "execution_count": 101,
     "metadata": {},
     "output_type": "execute_result"
    }
   ],
   "source": [
    "a"
   ]
  },
  {
   "cell_type": "code",
   "execution_count": 102,
   "id": "d2bb4777-3df4-4acc-9783-86061a2290a1",
   "metadata": {},
   "outputs": [
    {
     "data": {
      "text/plain": [
       "['bark', 'meow', 'woof', 'bark', 'cheep', 'bark']"
      ]
     },
     "execution_count": 102,
     "metadata": {},
     "output_type": "execute_result"
    }
   ],
   "source": [
    "a = ['bark', 'meow', 'woof', 'bark', 'cheep', 'bark']\n",
    "a"
   ]
  },
  {
   "cell_type": "code",
   "execution_count": 104,
   "id": "b1d48f17-4c79-45e8-9b7e-b9c4fe5725da",
   "metadata": {},
   "outputs": [],
   "source": [
    "#removing the value from list using del()\n",
    "del a[1]"
   ]
  },
  {
   "cell_type": "code",
   "execution_count": 105,
   "id": "7e95b890-b437-4dfa-b6ce-b120602be1b9",
   "metadata": {},
   "outputs": [
    {
     "data": {
      "text/plain": [
       "['bark', 'woof', 'bark', 'cheep', 'bark']"
      ]
     },
     "execution_count": 105,
     "metadata": {},
     "output_type": "execute_result"
    }
   ],
   "source": [
    "a"
   ]
  },
  {
   "cell_type": "code",
   "execution_count": 106,
   "id": "2d1dbb0a-890a-4fa0-bb58-7c6cdcba7e09",
   "metadata": {},
   "outputs": [],
   "source": []
  },
  {
   "cell_type": "code",
   "execution_count": null,
   "id": "875520cf-6f56-4e00-9e30-0094afd3d584",
   "metadata": {},
   "outputs": [],
   "source": []
  }
 ],
 "metadata": {
  "kernelspec": {
   "display_name": "Python 3 (ipykernel)",
   "language": "python",
   "name": "python3"
  },
  "language_info": {
   "codemirror_mode": {
    "name": "ipython",
    "version": 3
   },
   "file_extension": ".py",
   "mimetype": "text/x-python",
   "name": "python",
   "nbconvert_exporter": "python",
   "pygments_lexer": "ipython3",
   "version": "3.10.8"
  }
 },
 "nbformat": 4,
 "nbformat_minor": 5
}
