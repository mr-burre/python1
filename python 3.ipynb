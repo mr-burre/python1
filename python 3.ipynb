{
 "cells": [
  {
   "cell_type": "markdown",
   "id": "cd08754e-c5bc-4a11-9f85-5e3bf89a8fea",
   "metadata": {},
   "source": [
    "code of Python function that takes a list of numbers as input and returns the sum of all even numbers in the list?"
   ]
  },
  {
   "cell_type": "code",
   "execution_count": 33,
   "id": "2a0ca6dc-c5a9-4e6f-8d2e-a0592831fbb2",
   "metadata": {},
   "outputs": [
    {
     "name": "stdout",
     "output_type": "stream",
     "text": [
      "64\n"
     ]
    }
   ],
   "source": [
    "#Sum of all even Numbers\n",
    "def sum_of_all_even_no(numbers):\n",
    "    return sum(num for num in numbers if num % 2==0)\n",
    "numbers =[1,2,3,4,5,6,7,8,10,15,16,17,18]\n",
    "print(sum_of_all_even_no(numbers))\n",
    "        "
   ]
  },
  {
   "cell_type": "code",
   "execution_count": 36,
   "id": "977ea0f5-a66e-4c4e-888c-494cc644c46e",
   "metadata": {},
   "outputs": [],
   "source": [
    "import math as m"
   ]
  },
  {
   "cell_type": "markdown",
   "id": "b03b117b-5b35-4f6a-a09b-72557ce14f8c",
   "metadata": {},
   "source": [
    "#"
   ]
  },
  {
   "cell_type": "markdown",
   "id": "9cb4bffc-4ac8-4180-a346-c1efcc102b6c",
   "metadata": {},
   "source": [
    "Code of Python function that accepts a string and returns the reverse of that string?"
   ]
  },
  {
   "cell_type": "code",
   "execution_count": 8,
   "id": "049024f3-0f1e-4ad5-93ed-906450209833",
   "metadata": {},
   "outputs": [
    {
     "name": "stdout",
     "output_type": "stream",
     "text": [
      "!gniZ olleh\n"
     ]
    }
   ],
   "source": [
    "#reverse string\n",
    "def reverse_string(s):\n",
    "    return s[::-1]\n",
    "\n",
    "input_string = \"hello Zing!\"\n",
    "print(reverse_string(input_string))"
   ]
  },
  {
   "cell_type": "code",
   "execution_count": 9,
   "id": "6a136ad2-100f-4b6c-b9c6-8eeadf94a889",
   "metadata": {},
   "outputs": [
    {
     "name": "stdin",
     "output_type": "stream",
     "text": [
      "please give your input:  bharathburre\n"
     ]
    },
    {
     "name": "stdout",
     "output_type": "stream",
     "text": [
      "errubhtarahb\n"
     ]
    }
   ],
   "source": [
    "def reverse_string_input(s):\n",
    "    return s[::-1]\n",
    "\n",
    "input_string1 = input(\"please give your input: \")\n",
    "print (reverse_string_input(input_string1))\n"
   ]
  },
  {
   "cell_type": "markdown",
   "id": "bb20fecb-0a44-4bce-aa6d-a592b6ff6417",
   "metadata": {},
   "source": [
    "#"
   ]
  },
  {
   "cell_type": "markdown",
   "id": "38a14804-bf7c-4e52-abb6-0619b4ebc7fc",
   "metadata": {},
   "source": [
    "Python function that takes a list of integers and returns a new list containing the squares of each number."
   ]
  },
  {
   "cell_type": "code",
   "execution_count": 11,
   "id": "fd2a5e11-2c18-4c3f-91cc-bee72567d28b",
   "metadata": {},
   "outputs": [
    {
     "name": "stdout",
     "output_type": "stream",
     "text": [
      "[1, 4, 9, 16, 25, 36, 49, 64, 100, 225, 256, 289, 324]\n"
     ]
    }
   ],
   "source": [
    "def int_integer_squares(numbers):\n",
    "    return[num ** 2 for num in numbers]\n",
    "numbers =[1,2,3,4,5,6,7,8,10,15,16,17,18]\n",
    "print(int_integer_squares(numbers))"
   ]
  },
  {
   "cell_type": "code",
   "execution_count": 21,
   "id": "8496a897-598f-4f6e-aad1-45b4301becc8",
   "metadata": {},
   "outputs": [
    {
     "name": "stdout",
     "output_type": "stream",
     "text": [
      "[4, 16, 36, 64, 100, 256, 324]\n"
     ]
    }
   ],
   "source": [
    "#squares of all even numbers\n",
    "def even_squares(numbers):\n",
    "    return[num ** 2 for num in numbers if num % 2==0]\n",
    "numbers =[1,2,3,4,5,6,7,8,10,15,16,17,18]\n",
    "print(even_squares(numbers))"
   ]
  },
  {
   "cell_type": "code",
   "execution_count": null,
   "id": "dd759e92-1a4a-41c4-9312-76a5051f515b",
   "metadata": {},
   "outputs": [
    {
     "name": "stdout",
     "output_type": "stream",
     "text": [
      "[1, 9, 25, 49, 225, 289]\n"
     ]
    }
   ],
   "source": [
    "#squares of all odd numbers\n",
    "def odd_squares(numbers):\n",
    "    return [num ** 2 for num in numbers if num % 2!=0]\n",
    "numbers =[1,2,3,4,5,6,7,8,10,15,16,17,18]\n",
    "print(odd_squares(numbers))"
   ]
  },
  {
   "cell_type": "markdown",
   "id": "902512d8-0eec-42b4-b361-930fde3bc10c",
   "metadata": {},
   "source": [
    "#"
   ]
  },
  {
   "cell_type": "markdown",
   "id": "0ad59fd9-de96-42eb-806d-3070e0d11ea5",
   "metadata": {},
   "source": [
    "Python function that checks if a given number is prime or not from 1 to 200?"
   ]
  },
  {
   "cell_type": "code",
   "execution_count": 38,
   "id": "86c9951d-f470-4961-8ca1-6da25f3ae010",
   "metadata": {},
   "outputs": [
    {
     "name": "stdout",
     "output_type": "stream",
     "text": [
      "1 is not a prime number\n",
      "2 is not a prime number\n",
      "3 is not a prime number\n",
      "4 is not a prime number\n",
      "5 is a prime number\n",
      "6 is not a prime number\n",
      "7 is a prime number\n",
      "8 is not a prime number\n",
      "9 is a prime number\n",
      "10 is not a prime number\n",
      "11 is a prime number\n",
      "12 is not a prime number\n",
      "13 is a prime number\n",
      "14 is not a prime number\n",
      "15 is a prime number\n",
      "16 is not a prime number\n",
      "17 is a prime number\n",
      "18 is not a prime number\n",
      "19 is a prime number\n",
      "20 is not a prime number\n",
      "21 is a prime number\n",
      "22 is not a prime number\n",
      "23 is a prime number\n",
      "24 is not a prime number\n",
      "25 is a prime number\n",
      "26 is not a prime number\n",
      "27 is a prime number\n",
      "28 is not a prime number\n",
      "29 is a prime number\n",
      "30 is not a prime number\n",
      "31 is a prime number\n",
      "32 is not a prime number\n",
      "33 is a prime number\n",
      "34 is not a prime number\n",
      "35 is a prime number\n",
      "36 is not a prime number\n",
      "37 is a prime number\n",
      "38 is not a prime number\n",
      "39 is a prime number\n",
      "40 is not a prime number\n",
      "41 is a prime number\n",
      "42 is not a prime number\n",
      "43 is a prime number\n",
      "44 is not a prime number\n",
      "45 is a prime number\n",
      "46 is not a prime number\n",
      "47 is a prime number\n",
      "48 is not a prime number\n",
      "49 is a prime number\n",
      "50 is not a prime number\n",
      "51 is a prime number\n",
      "52 is not a prime number\n",
      "53 is a prime number\n",
      "54 is not a prime number\n",
      "55 is a prime number\n",
      "56 is not a prime number\n",
      "57 is a prime number\n",
      "58 is not a prime number\n",
      "59 is a prime number\n",
      "60 is not a prime number\n",
      "61 is a prime number\n",
      "62 is not a prime number\n",
      "63 is a prime number\n",
      "64 is not a prime number\n",
      "65 is a prime number\n",
      "66 is not a prime number\n",
      "67 is a prime number\n",
      "68 is not a prime number\n",
      "69 is a prime number\n",
      "70 is not a prime number\n",
      "71 is a prime number\n",
      "72 is not a prime number\n",
      "73 is a prime number\n",
      "74 is not a prime number\n",
      "75 is a prime number\n",
      "76 is not a prime number\n",
      "77 is a prime number\n",
      "78 is not a prime number\n",
      "79 is a prime number\n",
      "80 is not a prime number\n",
      "81 is a prime number\n",
      "82 is not a prime number\n",
      "83 is a prime number\n",
      "84 is not a prime number\n",
      "85 is a prime number\n",
      "86 is not a prime number\n",
      "87 is a prime number\n",
      "88 is not a prime number\n",
      "89 is a prime number\n",
      "90 is not a prime number\n",
      "91 is a prime number\n",
      "92 is not a prime number\n",
      "93 is a prime number\n",
      "94 is not a prime number\n",
      "95 is a prime number\n",
      "96 is not a prime number\n",
      "97 is a prime number\n",
      "98 is not a prime number\n",
      "99 is a prime number\n",
      "100 is not a prime number\n",
      "101 is a prime number\n",
      "102 is not a prime number\n",
      "103 is a prime number\n",
      "104 is not a prime number\n",
      "105 is a prime number\n",
      "106 is not a prime number\n",
      "107 is a prime number\n",
      "108 is not a prime number\n",
      "109 is a prime number\n",
      "110 is not a prime number\n",
      "111 is a prime number\n",
      "112 is not a prime number\n",
      "113 is a prime number\n",
      "114 is not a prime number\n",
      "115 is a prime number\n",
      "116 is not a prime number\n",
      "117 is a prime number\n",
      "118 is not a prime number\n",
      "119 is a prime number\n",
      "120 is not a prime number\n",
      "121 is a prime number\n",
      "122 is not a prime number\n",
      "123 is a prime number\n",
      "124 is not a prime number\n",
      "125 is a prime number\n",
      "126 is not a prime number\n",
      "127 is a prime number\n",
      "128 is not a prime number\n",
      "129 is a prime number\n",
      "130 is not a prime number\n",
      "131 is a prime number\n",
      "132 is not a prime number\n",
      "133 is a prime number\n",
      "134 is not a prime number\n",
      "135 is a prime number\n",
      "136 is not a prime number\n",
      "137 is a prime number\n",
      "138 is not a prime number\n",
      "139 is a prime number\n",
      "140 is not a prime number\n",
      "141 is a prime number\n",
      "142 is not a prime number\n",
      "143 is a prime number\n",
      "144 is not a prime number\n",
      "145 is a prime number\n",
      "146 is not a prime number\n",
      "147 is a prime number\n",
      "148 is not a prime number\n",
      "149 is a prime number\n",
      "150 is not a prime number\n",
      "151 is a prime number\n",
      "152 is not a prime number\n",
      "153 is a prime number\n",
      "154 is not a prime number\n",
      "155 is a prime number\n",
      "156 is not a prime number\n",
      "157 is a prime number\n",
      "158 is not a prime number\n",
      "159 is a prime number\n",
      "160 is not a prime number\n",
      "161 is a prime number\n",
      "162 is not a prime number\n",
      "163 is a prime number\n",
      "164 is not a prime number\n",
      "165 is a prime number\n",
      "166 is not a prime number\n",
      "167 is a prime number\n",
      "168 is not a prime number\n",
      "169 is a prime number\n",
      "170 is not a prime number\n",
      "171 is a prime number\n",
      "172 is not a prime number\n",
      "173 is a prime number\n",
      "174 is not a prime number\n",
      "175 is a prime number\n",
      "176 is not a prime number\n",
      "177 is a prime number\n",
      "178 is not a prime number\n",
      "179 is a prime number\n",
      "180 is not a prime number\n",
      "181 is a prime number\n",
      "182 is not a prime number\n",
      "183 is a prime number\n",
      "184 is not a prime number\n",
      "185 is a prime number\n",
      "186 is not a prime number\n",
      "187 is a prime number\n",
      "188 is not a prime number\n",
      "189 is a prime number\n",
      "190 is not a prime number\n",
      "191 is a prime number\n",
      "192 is not a prime number\n",
      "193 is a prime number\n",
      "194 is not a prime number\n",
      "195 is a prime number\n",
      "196 is not a prime number\n",
      "197 is a prime number\n",
      "198 is not a prime number\n",
      "199 is a prime number\n",
      "200 is not a prime number\n"
     ]
    }
   ],
   "source": [
    "#Checking prime number from 1 to 201\n",
    "def check_prime(n):\n",
    "    if n<=1:\n",
    "        return False\n",
    "    for i in range(2, int (n**0.5) + 1):\n",
    "        if n % i == 0:\n",
    "            return False\n",
    "        return True\n",
    "for num in range(1,201):\n",
    "    if check_prime(num):\n",
    "        print(f\"{num} is a prime number\")\n",
    "    else:\n",
    "        print(f\"{num} is not a prime number\")"
   ]
  },
  {
   "cell_type": "markdown",
   "id": "2a0aa5d3-3205-4a4d-9739-55e1ef358826",
   "metadata": {},
   "source": [
    "#"
   ]
  },
  {
   "cell_type": "markdown",
   "id": "5310121b-9063-4003-a061-9235150a6679",
   "metadata": {},
   "source": [
    "Create an iterator class in Python that generates the Fibonacci sequence up to a specified number of terms."
   ]
  },
  {
   "cell_type": "code",
   "execution_count": 12,
   "id": "83b39abe-2f48-48fe-8cde-cb1436ce5665",
   "metadata": {},
   "outputs": [
    {
     "name": "stdout",
     "output_type": "stream",
     "text": [
      "0\n",
      "1\n",
      "1\n",
      "2\n",
      "3\n",
      "5\n",
      "8\n",
      "13\n",
      "21\n",
      "34\n"
     ]
    }
   ],
   "source": [
    "#fibonacci series>> sum of last two numbers 0,1,2,3,5,8...\n",
    "def fib(n):\n",
    "    a = 0\n",
    "    b = 1\n",
    "    for i in range (n):\n",
    "        yield a\n",
    "        a, b= b, a+b\n",
    "\n",
    "#10 febonacchi numbers\n",
    "class Fibonacci:\n",
    "    def __init__(self, n_terms):\n",
    "        self.n_terms = n_terms\n",
    "        self.current = 0\n",
    "        self.next = 1 \n",
    "        self.count = 0\n",
    "\n",
    "    def __iter__(self):\n",
    "        return self\n",
    "\n",
    "    def __next__(self):\n",
    "        if self.count >= self.n_terms:\n",
    "            raise StopIteration\n",
    "        self.count += 1\n",
    "        fib = self.current\n",
    "        self.current, self.next = self.next, self.current + self.next\n",
    "        return fib\n",
    "\n",
    "# Example usage:\n",
    "n_terms = 10\n",
    "fib_sequence = Fibonacci(n_terms)\n",
    "for num in fib_sequence:\n",
    "    print(num)\n",
    "\n"
   ]
  },
  {
   "cell_type": "code",
   "execution_count": 18,
   "id": "1707ca18-f49c-4f6b-aad9-d1e9893ec4d2",
   "metadata": {},
   "outputs": [],
   "source": [
    "def fib(n):\n",
    "    a = 0\n",
    "    b = 1\n",
    "    for i in range(n):\n",
    "        yield a\n",
    "        a, b= b , a+b\n",
    "fib(100)\n",
    "f = fib(100)"
   ]
  },
  {
   "cell_type": "code",
   "execution_count": 20,
   "id": "8f804239-31b5-4dff-abe6-351235e3300c",
   "metadata": {},
   "outputs": [
    {
     "data": {
      "text/plain": [
       "0"
      ]
     },
     "execution_count": 20,
     "metadata": {},
     "output_type": "execute_result"
    }
   ],
   "source": [
    "next(f)"
   ]
  },
  {
   "cell_type": "code",
   "execution_count": 21,
   "id": "bae7e206-3768-4a71-a52f-40511149a504",
   "metadata": {},
   "outputs": [
    {
     "data": {
      "text/plain": [
       "1"
      ]
     },
     "execution_count": 21,
     "metadata": {},
     "output_type": "execute_result"
    }
   ],
   "source": [
    "next(f)"
   ]
  },
  {
   "cell_type": "code",
   "execution_count": 3,
   "id": "7dc6cc44-158e-491a-b76a-9bee4a391ee0",
   "metadata": {},
   "outputs": [
    {
     "data": {
      "text/plain": [
       "[0, 1, 1, 2, 3, 5, 8, 13, 21, 34]"
      ]
     },
     "execution_count": 3,
     "metadata": {},
     "output_type": "execute_result"
    }
   ],
   "source": [
    "fib = lambda n: n if n<=1 else fib(n-1) + fib(n-2)\n",
    "[fib(i) for i in range (10)]\n"
   ]
  },
  {
   "cell_type": "markdown",
   "id": "d43dcd73-58d6-4951-8f85-8daca4c6c216",
   "metadata": {},
   "source": [
    "generator function in Python that yields the powers of 2 up to a given exponent?"
   ]
  },
  {
   "cell_type": "code",
   "execution_count": 41,
   "id": "8406a32c-1824-4aa6-8e08-171607be56c0",
   "metadata": {},
   "outputs": [
    {
     "name": "stdout",
     "output_type": "stream",
     "text": [
      "1\n",
      "2\n",
      "4\n",
      "8\n",
      "16\n",
      "32\n"
     ]
    }
   ],
   "source": [
    "def power_of_two(numbers):\n",
    "    for i in range(numbers +1):\n",
    "        yield 2**i\n",
    "for power in power_of_two(5):\n",
    "    print(power)"
   ]
  },
  {
   "cell_type": "markdown",
   "id": "d989bb4b-4482-41f2-8026-30ae1b0ddfc9",
   "metadata": {},
   "source": [
    "#"
   ]
  },
  {
   "cell_type": "markdown",
   "id": "22390f88-199c-4911-b5f7-3929f34ca2fd",
   "metadata": {},
   "source": [
    "Implement a generator function that reads a file line by line and yields each line as a string?\n"
   ]
  },
  {
   "cell_type": "code",
   "execution_count": 4,
   "id": "723c6cdc-2a0b-4868-83a6-40630f375820",
   "metadata": {},
   "outputs": [
    {
     "name": "stdout",
     "output_type": "stream",
     "text": [
      "hi its bharath this is 1st line\n",
      "hi bla bala bla this is 2nd line\n",
      "learning is punishment 3rd lin\n"
     ]
    }
   ],
   "source": [
    "def read_file_line_by_line(file_path):\n",
    "    with open(file_path, 'r') as file:\n",
    "        for line in file:\n",
    "            yield line.strip()\n",
    "\n",
    "# Example usage:\n",
    "file_path = 'example.txt'\n",
    "for line in read_file_line_by_line(file_path):\n",
    "    print(line)"
   ]
  },
  {
   "cell_type": "code",
   "execution_count": null,
   "id": "dd927baa-2529-46d6-9cb4-4bb0625e5eeb",
   "metadata": {},
   "outputs": [],
   "source": []
  },
  {
   "cell_type": "code",
   "execution_count": 3,
   "id": "16ceffbd-29b0-42c8-98ab-38d4a3b29aa1",
   "metadata": {},
   "outputs": [],
   "source": [
    "#function that except only list and prints only integer or floot from list\n",
    "def only_numaric(a):\n",
    "    n= []\n",
    "    for i in a:\n",
    "        if type (i) == int or type(i) == float:\n",
    "            n.append(i)\n",
    "    return n"
   ]
  },
  {
   "cell_type": "code",
   "execution_count": 4,
   "id": "8447b943-1baa-4943-af29-3775a77f8767",
   "metadata": {},
   "outputs": [
    {
     "data": {
      "text/plain": [
       "[1, 2, 3, 3.5]"
      ]
     },
     "execution_count": 4,
     "metadata": {},
     "output_type": "execute_result"
    }
   ],
   "source": [
    "only_numaric([1,2,3,3.5, \"a,b,c\", True, \"Loud\"])"
   ]
  },
  {
   "cell_type": "code",
   "execution_count": 5,
   "id": "9f605822-df00-4ec6-b0be-633303072941",
   "metadata": {},
   "outputs": [],
   "source": [
    "#function that accept list and print string and bool in given list\n",
    "def only_numaric(a):\n",
    "    n= []\n",
    "    for i in a:\n",
    "        if type (i) == str or type(i) == bool:\n",
    "            n.append(i)\n",
    "    return n"
   ]
  },
  {
   "cell_type": "code",
   "execution_count": 6,
   "id": "4548224c-5ca9-4fef-b540-8307f0cf057e",
   "metadata": {},
   "outputs": [
    {
     "data": {
      "text/plain": [
       "['a,b,c', True, 'Loud']"
      ]
     },
     "execution_count": 6,
     "metadata": {},
     "output_type": "execute_result"
    }
   ],
   "source": [
    "only_numaric([1,2,3,3.5, \"a,b,c\", True, \"Loud\"])"
   ]
  },
  {
   "cell_type": "code",
   "execution_count": 7,
   "id": "4e1d8b5c-68e9-42d8-8065-05709d28b9d9",
   "metadata": {},
   "outputs": [],
   "source": [
    "#nested list\n",
    "def only_numaric(a):\n",
    "    n= []\n",
    "    for i in a:\n",
    "        if type (i) == list:\n",
    "            for j in i:\n",
    "                if type (j) == int or type(j) == float:\n",
    "                    n.append(j)\n",
    "        else:\n",
    "            if type (i) == int or type(i) == float:\n",
    "                n.append(i)\n",
    "    return n"
   ]
  },
  {
   "cell_type": "code",
   "execution_count": 8,
   "id": "85fb1c34-0718-47f3-8fc6-471122b850ad",
   "metadata": {},
   "outputs": [
    {
     "data": {
      "text/plain": [
       "[1, 2, 3, 3.5, 1.2, 33, 1]"
      ]
     },
     "execution_count": 8,
     "metadata": {},
     "output_type": "execute_result"
    }
   ],
   "source": [
    "only_numaric([1,2,3,3.5, \"a,b,c\", True, \"Loud\",[\"bingo\", 1.2,33,1]])"
   ]
  },
  {
   "cell_type": "markdown",
   "id": "62f58def-06b0-4dad-938d-e7bd9959b6d2",
   "metadata": {},
   "source": [
    "lambda function in Python to sort a list of tuples based on the second element of each tuple."
   ]
  },
  {
   "cell_type": "code",
   "execution_count": 3,
   "id": "2165571b-a335-4e86-a392-c63a80abe4b3",
   "metadata": {},
   "outputs": [],
   "source": [
    "x = (\"raj\",\"bharath\",\"vamshi\",\"krishna\",\"ram\")"
   ]
  },
  {
   "cell_type": "code",
   "execution_count": 5,
   "id": "9bbafbed-774b-4bac-8009-2ff707159229",
   "metadata": {},
   "outputs": [
    {
     "data": {
      "text/plain": [
       "['raj', 'vamshi', 'ram', 'bharath', 'krishna']"
      ]
     },
     "execution_count": 5,
     "metadata": {},
     "output_type": "execute_result"
    }
   ],
   "source": [
    "sorted(x, key = lambda x: x[1])"
   ]
  },
  {
   "cell_type": "code",
   "execution_count": 23,
   "id": "21193e19-b6c1-4e66-b6cd-3d1aa5871725",
   "metadata": {},
   "outputs": [],
   "source": [
    "# above logic sorted was used to sort the x tuple with key assigned lambda x of assined indices"
   ]
  },
  {
   "cell_type": "markdown",
   "id": "e043c302-1c59-4bbf-961a-7626631219cf",
   "metadata": {},
   "source": [
    "Write a Python program that uses `map()` to convert a list of temperatures from Celsius to Fahrenheit."
   ]
  },
  {
   "cell_type": "code",
   "execution_count": 8,
   "id": "aeff05a0-7da7-4234-8032-75c39d4ae86e",
   "metadata": {},
   "outputs": [
    {
     "name": "stdout",
     "output_type": "stream",
     "text": [
      "Temperatures in Fahrenheit: [30.2, 50.0, 89.6, 113.0]\n"
     ]
    }
   ],
   "source": [
    "\n",
    "# Function to convert Celsius to Fahrenheit\n",
    "def celsius_to_fahrenheit(celsius):\n",
    "    return (celsius * 9/5) + 32\n",
    "\n",
    "# List of temperatures in Celsius\n",
    "celsius_temperatures = [1, 10, 32, 45]\n",
    "\n",
    "# Using map() to apply the conversion function to each temperature in the list\n",
    "fahrenheit_temperatures = list(map(celsius_to_fahrenheit, celsius_temperatures))\n",
    "\n",
    "# Printing the converted temperatures\n",
    "print(\"Temperatures in Fahrenheit:\", fahrenheit_temperatures)\n",
    "\n"
   ]
  },
  {
   "cell_type": "code",
   "execution_count": null,
   "id": "875f2387-ff1d-4e2c-927f-3c602e2e6209",
   "metadata": {},
   "outputs": [],
   "source": []
  },
  {
   "cell_type": "markdown",
   "id": "9f454b44-1304-4054-9fd7-c902675893a9",
   "metadata": {},
   "source": [
    "Python program that uses `filter()` to remove all the vowels from a given string."
   ]
  },
  {
   "cell_type": "code",
   "execution_count": 21,
   "id": "a0d320f6-3158-446e-9dda-3f97be6d238d",
   "metadata": {},
   "outputs": [
    {
     "name": "stdout",
     "output_type": "stream",
     "text": [
      "char after removing all the vowels: Pw Sklls, hll wrld\n"
     ]
    }
   ],
   "source": [
    "def not_vowels(char):\n",
    "    vowels = 'aeiouAEIOU'\n",
    "    return char not in vowels\n",
    "Input_string= \"Pw Skills, hello world\"\n",
    "result_string= ''.join(filter(not_vowels,Input_string))\n",
    "\n",
    "print(\"char after removing all the vowels:\",result_string)"
   ]
  },
  {
   "cell_type": "code",
   "execution_count": 27,
   "id": "ac7b7d6d-5a73-42b2-8ca0-2cee504637a8",
   "metadata": {},
   "outputs": [],
   "source": [
    "order_Number=[34587,98762,77226,88112]\n",
    "book_title_and_Author=[\"learning Python, Mark lutz\",\"programming python,Paul Barry\", \"Einfuhrung in Python3, Berndklein\"]\n",
    "quantity = [4,5.3,3]\n",
    "Price_per_Item = [40.95,56.80,32.95,24.99]"
   ]
  },
  {
   "cell_type": "code",
   "execution_count": 29,
   "id": "86e45a60-8599-4e88-8a3a-37b63ffa8279",
   "metadata": {},
   "outputs": [
    {
     "data": {
      "text/plain": [
       "list"
      ]
     },
     "execution_count": 29,
     "metadata": {},
     "output_type": "execute_result"
    }
   ],
   "source": []
  },
  {
   "cell_type": "code",
   "execution_count": 44,
   "id": "733ba7a4-3fe0-4e81-b54a-f368b82a3768",
   "metadata": {},
   "outputs": [
    {
     "name": "stdout",
     "output_type": "stream",
     "text": [
      "[(34587, 163.8), (98762, 301.03999999999996), (77226, 108.85000000000001)]\n"
     ]
    }
   ],
   "source": [
    "# Lists provided\n",
    "order_Number = [34587, 98762, 77226, 88112]\n",
    "book_title_and_Author = [\"learning Python, Mark Lutz\", \"programming Python, Paul Barry\", \"Einfuhrung in Python3, Bernd Klein\"]\n",
    "quantity = [4, 5.3, 3]\n",
    "Price_per_Item = [40.95, 56.80, 32.95, 24.99]\n",
    "\n",
    "# Function to calculate the total price and apply the 10€ increase if necessary\n",
    "calculate_total = lambda q, p: q * p if q * p >= 100 else q * p + 10\n",
    "\n",
    "# Using map to apply the function to the lists\n",
    "result = list(map(lambda order, qty, price: (order, calculate_total(qty, price)), order_Number, quantity, Price_per_Item))\n",
    "\n",
    "# Printing the result\n",
    "print(result)\n"
   ]
  },
  {
   "cell_type": "code",
   "execution_count": null,
   "id": "4c667042-bfd0-47f9-8e79-132dc37c1d22",
   "metadata": {},
   "outputs": [],
   "source": []
  }
 ],
 "metadata": {
  "kernelspec": {
   "display_name": "Python 3 (ipykernel)",
   "language": "python",
   "name": "python3"
  },
  "language_info": {
   "codemirror_mode": {
    "name": "ipython",
    "version": 3
   },
   "file_extension": ".py",
   "mimetype": "text/x-python",
   "name": "python",
   "nbconvert_exporter": "python",
   "pygments_lexer": "ipython3",
   "version": "3.10.8"
  }
 },
 "nbformat": 4,
 "nbformat_minor": 5
}
