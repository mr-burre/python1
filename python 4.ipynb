{
 "cells": [
  {
   "cell_type": "markdown",
   "id": "8602bd23-3eae-47aa-941d-965d7c83a10e",
   "metadata": {},
   "source": [
    "Creat a new Text file and write a few lines of text into it? "
   ]
  },
  {
   "cell_type": "code",
   "execution_count": 173,
   "id": "21a01478-8377-43f1-a251-330ce11a1bcf",
   "metadata": {},
   "outputs": [],
   "source": [
    "#creating a text file\n",
    "file= open(\"vestofmoney.txt\", 'w')"
   ]
  },
  {
   "cell_type": "code",
   "execution_count": 174,
   "id": "c52cd3af-0daa-4099-b017-f332b4191421",
   "metadata": {},
   "outputs": [],
   "source": [
    "#writing lines in text file\n",
    "file.write(\"hello this course this is 1st line \\n\")\n",
    "file.write(\"this is second line \\n\" )\n",
    "file.write(\"this is third line \\n\" )\n",
    "file.write(\"this is fourth line \\n\" )\n",
    "file.close()"
   ]
  },
  {
   "cell_type": "code",
   "execution_count": 175,
   "id": "c7e92896-c9f8-4f03-af88-1b01c137f431",
   "metadata": {},
   "outputs": [
    {
     "data": {
      "text/plain": [
       "<_io.TextIOWrapper name='vestofmoney.txt' mode='w' encoding='UTF-8'>"
      ]
     },
     "execution_count": 175,
     "metadata": {},
     "output_type": "execute_result"
    }
   ],
   "source": [
    "file"
   ]
  },
  {
   "cell_type": "code",
   "execution_count": 176,
   "id": "71a9dfd1-cb66-4906-8b4d-c0c54f35644f",
   "metadata": {},
   "outputs": [
    {
     "data": {
      "text/plain": [
       "True"
      ]
     },
     "execution_count": 176,
     "metadata": {},
     "output_type": "execute_result"
    }
   ],
   "source": [
    "file.closed"
   ]
  },
  {
   "cell_type": "code",
   "execution_count": null,
   "id": "4f102785-4acb-4061-acad-d1743235b3ce",
   "metadata": {},
   "outputs": [],
   "source": []
  },
  {
   "cell_type": "markdown",
   "id": "504a8041-6c8e-401e-9d7a-baf580b1498c",
   "metadata": {},
   "source": [
    "open and read the contants of the file you just created"
   ]
  },
  {
   "cell_type": "code",
   "execution_count": 177,
   "id": "5e99cc58-0a40-451f-8109-a82b490a81ff",
   "metadata": {},
   "outputs": [],
   "source": [
    "file=open(\"vestofmoney.txt\", 'r')"
   ]
  },
  {
   "cell_type": "code",
   "execution_count": 178,
   "id": "f6e13ddb-833b-40d6-9ffb-b51e8a20b5aa",
   "metadata": {},
   "outputs": [
    {
     "name": "stdout",
     "output_type": "stream",
     "text": [
      "hello this course this is 1st line \n",
      "this is second line \n",
      "this is third line \n",
      "this is fourth line \n",
      "\n"
     ]
    }
   ],
   "source": [
    "# Open the file in read mode\n",
    "with open('vestofmoney.txt', 'r') as file:\n",
    "    contents = file.read()\n",
    "\n",
    "# Print the contents\n",
    "print(contents)"
   ]
  },
  {
   "cell_type": "code",
   "execution_count": 179,
   "id": "62b8003b-5b74-41af-be1c-1ebd9393daca",
   "metadata": {},
   "outputs": [],
   "source": [
    "file.close()"
   ]
  },
  {
   "cell_type": "code",
   "execution_count": 180,
   "id": "f17705a7-6bd1-4b2c-a92e-6e8ab200594c",
   "metadata": {},
   "outputs": [
    {
     "data": {
      "text/plain": [
       "True"
      ]
     },
     "execution_count": 180,
     "metadata": {},
     "output_type": "execute_result"
    }
   ],
   "source": [
    "file.closed"
   ]
  },
  {
   "cell_type": "code",
   "execution_count": 181,
   "id": "f0579c2e-099a-4434-90f0-91b602c4009a",
   "metadata": {},
   "outputs": [
    {
     "data": {
      "text/plain": [
       "'r'"
      ]
     },
     "execution_count": 181,
     "metadata": {},
     "output_type": "execute_result"
    }
   ],
   "source": [
    "file.mode"
   ]
  },
  {
   "cell_type": "code",
   "execution_count": 182,
   "id": "2bf8b1e2-f769-4a4d-8cf1-795ea55fc30c",
   "metadata": {},
   "outputs": [
    {
     "data": {
      "text/plain": [
       "_io.TextIOWrapper"
      ]
     },
     "execution_count": 182,
     "metadata": {},
     "output_type": "execute_result"
    }
   ],
   "source": [
    "type(file)"
   ]
  },
  {
   "cell_type": "code",
   "execution_count": null,
   "id": "a275d30d-9ec8-491e-a5d7-ca8452f9203f",
   "metadata": {},
   "outputs": [],
   "source": []
  },
  {
   "cell_type": "markdown",
   "id": "3081be6b-4215-45fd-9611-382c903357a6",
   "metadata": {},
   "source": [
    "add additional text to the existing file without deleting the current content"
   ]
  },
  {
   "cell_type": "code",
   "execution_count": 183,
   "id": "0989c1a7-d0fe-41b0-9441-68b8a44707af",
   "metadata": {},
   "outputs": [],
   "source": [
    "#using append to add content to existing filr without deling existing data\n",
    "file=open(\"vestofmoney.txt\", 'a')"
   ]
  },
  {
   "cell_type": "code",
   "execution_count": 184,
   "id": "ecbcb9b8-facd-4cdf-882b-1649374994d8",
   "metadata": {},
   "outputs": [],
   "source": [
    "file.write(\" this is the additional added as a fifth line\\n\")\n",
    "file.write(\" this is the additional added as a sixth line\\n\")\n",
    "file.close()"
   ]
  },
  {
   "cell_type": "code",
   "execution_count": 185,
   "id": "88ca866c-3a82-4bb7-894e-f095a87bbb8f",
   "metadata": {},
   "outputs": [
    {
     "data": {
      "text/plain": [
       "True"
      ]
     },
     "execution_count": 185,
     "metadata": {},
     "output_type": "execute_result"
    }
   ],
   "source": [
    "file.closed"
   ]
  },
  {
   "cell_type": "code",
   "execution_count": 186,
   "id": "cdeddefa-5fbe-4d10-9f29-d5b12ac33418",
   "metadata": {},
   "outputs": [
    {
     "data": {
      "text/plain": [
       "'a'"
      ]
     },
     "execution_count": 186,
     "metadata": {},
     "output_type": "execute_result"
    }
   ],
   "source": [
    "file.mode"
   ]
  },
  {
   "cell_type": "code",
   "execution_count": 187,
   "id": "186e7fbd-6150-4dd9-bb3c-920f88125adf",
   "metadata": {},
   "outputs": [
    {
     "name": "stdout",
     "output_type": "stream",
     "text": [
      "hello this course this is 1st line \n",
      "this is second line \n",
      "this is third line \n",
      "this is fourth line \n",
      " this is the additional added as a fifth line\n",
      " this is the additional added as a sixth line\n",
      "\n"
     ]
    }
   ],
   "source": [
    "with open(\"vestofmoney.txt\", 'r') as file:\n",
    "    read= file.read()\n",
    "print(read)"
   ]
  },
  {
   "cell_type": "code",
   "execution_count": 188,
   "id": "6873ad74-f612-4a36-a17c-7f5dc725f961",
   "metadata": {},
   "outputs": [],
   "source": [
    "file.close()"
   ]
  },
  {
   "cell_type": "markdown",
   "id": "0da59234-ed4c-4a30-b769-838aaeee1fb3",
   "metadata": {},
   "source": [
    "read and print each line from the file one by one?"
   ]
  },
  {
   "cell_type": "code",
   "execution_count": null,
   "id": "53548c97-504f-4018-a9d3-3ba10eb292d4",
   "metadata": {},
   "outputs": [],
   "source": []
  },
  {
   "cell_type": "code",
   "execution_count": 189,
   "id": "d9504a90-958f-41ff-ba0e-9b735e71a266",
   "metadata": {},
   "outputs": [
    {
     "name": "stdout",
     "output_type": "stream",
     "text": [
      "hello this course this is 1st line\n",
      "this is second line\n",
      "this is third line\n",
      "this is fourth line\n",
      "this is the additional added as a fifth line\n",
      "this is the additional added as a sixth line\n"
     ]
    }
   ],
   "source": [
    "with open(\"vestofmoney.txt\",'r') as file:\n",
    "    for line in file:\n",
    "        print(line.strip())"
   ]
  },
  {
   "cell_type": "markdown",
   "id": "7c898174-b6f7-40dd-9fd1-ad1841f78c24",
   "metadata": {},
   "source": [
    "Write  the contents of a list to a file, with each item on a new line."
   ]
  },
  {
   "cell_type": "code",
   "execution_count": 190,
   "id": "d6d1f41f-37b5-4d7c-8a00-a6dc76ac5bc4",
   "metadata": {},
   "outputs": [],
   "source": [
    "file.close()"
   ]
  },
  {
   "cell_type": "code",
   "execution_count": 191,
   "id": "714c7bdb-e2e3-47d5-8075-1b5139f66345",
   "metadata": {},
   "outputs": [
    {
     "data": {
      "text/plain": [
       "True"
      ]
     },
     "execution_count": 191,
     "metadata": {},
     "output_type": "execute_result"
    }
   ],
   "source": [
    "file.closed"
   ]
  },
  {
   "cell_type": "code",
   "execution_count": 192,
   "id": "75ba7964-f503-43e8-ae4f-7d123c31f6e8",
   "metadata": {},
   "outputs": [],
   "source": [
    "my_list=[\"apple\", \"samsung\",\"nokia\",\"oppo\",\"vivo\"]\n",
    "\n",
    "with open('vestofmoney.txt', 'a') as file:\n",
    "    # Write each item in the list to the file\n",
    "    for item in my_list:\n",
    "        file.write(item + '\\n')"
   ]
  },
  {
   "cell_type": "code",
   "execution_count": 193,
   "id": "9e0303c4-b1a5-4bbe-8421-cd22985a324d",
   "metadata": {},
   "outputs": [],
   "source": [
    "file.close()"
   ]
  },
  {
   "cell_type": "code",
   "execution_count": 194,
   "id": "6ce35396-186a-49ff-8a25-000a505ea866",
   "metadata": {},
   "outputs": [
    {
     "data": {
      "text/plain": [
       "True"
      ]
     },
     "execution_count": 194,
     "metadata": {},
     "output_type": "execute_result"
    }
   ],
   "source": [
    "file.closed"
   ]
  },
  {
   "cell_type": "code",
   "execution_count": 195,
   "id": "dbfd43c2-c903-458f-9475-526900790602",
   "metadata": {},
   "outputs": [
    {
     "name": "stdout",
     "output_type": "stream",
     "text": [
      "hello this course this is 1st line\n",
      "this is second line\n",
      "this is third line\n",
      "this is fourth line\n",
      "this is the additional added as a fifth line\n",
      "this is the additional added as a sixth line\n",
      "apple\n",
      "samsung\n",
      "nokia\n",
      "oppo\n",
      "vivo\n"
     ]
    }
   ],
   "source": [
    "with open (\"vestofmoney.txt\",'r')as file:\n",
    "    for line in file:\n",
    "        print(line.strip())"
   ]
  },
  {
   "cell_type": "code",
   "execution_count": 196,
   "id": "30a0401d-339d-4537-9c62-b1828ca4b1a5",
   "metadata": {},
   "outputs": [],
   "source": [
    "file.close()"
   ]
  },
  {
   "cell_type": "markdown",
   "id": "351ca1f6-9ea3-44e7-928a-0ad398106eb6",
   "metadata": {},
   "source": [
    "read the file content into a list, where each line is an element of the list"
   ]
  },
  {
   "cell_type": "code",
   "execution_count": 197,
   "id": "ef7086f9-3e17-4e05-9d52-ceacc5ac1079",
   "metadata": {},
   "outputs": [
    {
     "name": "stdout",
     "output_type": "stream",
     "text": [
      "['hello this course this is 1st line', 'this is second line', 'this is third line', 'this is fourth line', 'this is the additional added as a fifth line', 'this is the additional added as a sixth line', 'apple', 'samsung', 'nokia', 'oppo', 'vivo']\n"
     ]
    }
   ],
   "source": [
    "# Open the file in read mode\n",
    "with open('vestofmoney.txt', 'r') as file:\n",
    "    # Read each line into a list\n",
    "    lines = file.readlines()\n",
    "\n",
    "# Strip newline characters from each line\n",
    "lines = [line.strip() for line in lines]\n",
    "\n",
    "# Print the list\n",
    "print(lines)\n"
   ]
  },
  {
   "cell_type": "code",
   "execution_count": null,
   "id": "5a4c515e-e1aa-4f0e-afa8-e7eec6480c9b",
   "metadata": {},
   "outputs": [],
   "source": []
  },
  {
   "cell_type": "code",
   "execution_count": null,
   "id": "e5254bd3-3dc6-40d1-ae28-bdcd09ab77eb",
   "metadata": {},
   "outputs": [],
   "source": []
  },
  {
   "cell_type": "markdown",
   "id": "5464c6a5-a4ff-484c-a2ca-470bfdaa022d",
   "metadata": {},
   "source": [
    "Count the total number of words in the file?"
   ]
  },
  {
   "cell_type": "code",
   "execution_count": 198,
   "id": "524c823a-5e0f-4290-90c5-cd9180e82111",
   "metadata": {},
   "outputs": [
    {
     "name": "stdout",
     "output_type": "stream",
     "text": [
      "Total number of words: 42\n"
     ]
    }
   ],
   "source": [
    "# Open the file in read mode\n",
    "with open('vestofmoney.txt', 'r') as file:\n",
    "    # Read the entire contents of the file\n",
    "    contents = file.read()\n",
    "\n",
    "# Split the contents into words\n",
    "words = contents.split()\n",
    "\n",
    "# Count the number of words\n",
    "word_count = len(words)\n",
    "\n",
    "# Print the total number of words\n",
    "print(f'Total number of words: {word_count}')\n"
   ]
  },
  {
   "cell_type": "markdown",
   "id": "4f2f4f56-42d2-4f8e-993e-c45a967d6d9c",
   "metadata": {},
   "source": [
    "copy the contents of one file to another file"
   ]
  },
  {
   "cell_type": "code",
   "execution_count": 201,
   "id": "7a92992b-2e69-44f1-96e5-00c415d38f8e",
   "metadata": {},
   "outputs": [
    {
     "data": {
      "text/plain": [
       "'example.txt'"
      ]
     },
     "execution_count": 201,
     "metadata": {},
     "output_type": "execute_result"
    }
   ],
   "source": [
    "import shutil\n",
    "\n",
    "# Source file path\n",
    "source = 'vestofmoney.txt'\n",
    "\n",
    "# Destination file path\n",
    "destination = 'example.txt'\n",
    "\n",
    "# Copy the content of the source file to the destination file\n",
    "shutil.copyfile(source, destination)"
   ]
  },
  {
   "cell_type": "code",
   "execution_count": 202,
   "id": "b5aacd90-5516-4c6a-8244-f215fed40abc",
   "metadata": {},
   "outputs": [
    {
     "name": "stdout",
     "output_type": "stream",
     "text": [
      "hello this course this is 1st line \n",
      "this is second line \n",
      "this is third line \n",
      "this is fourth line \n",
      " this is the additional added as a fifth line\n",
      " this is the additional added as a sixth line\n",
      "apple\n",
      "samsung\n",
      "nokia\n",
      "oppo\n",
      "vivo\n",
      "\n"
     ]
    }
   ],
   "source": [
    "with open(\"example.txt\",'r') as file:\n",
    "    readthefile= file.read()\n",
    "print(readthefile)"
   ]
  },
  {
   "cell_type": "markdown",
   "id": "59d47401-125c-44b9-9fcc-a680027e3a69",
   "metadata": {},
   "source": [
    "check if a file exists before attempting to read it"
   ]
  },
  {
   "cell_type": "code",
   "execution_count": 203,
   "id": "7e243244-4116-4896-9061-0deaf1c1e1e2",
   "metadata": {},
   "outputs": [],
   "source": [
    "import os"
   ]
  },
  {
   "cell_type": "code",
   "execution_count": 208,
   "id": "ad41cabb-1a15-45c6-9606-81bde99ca872",
   "metadata": {},
   "outputs": [
    {
     "name": "stdout",
     "output_type": "stream",
     "text": [
      " This file example.txt )exists.\n"
     ]
    }
   ],
   "source": [
    "# Specify the file path\n",
    "file_path = 'example.txt'\n",
    "\n",
    "# Check if the file exists\n",
    "if os.path.exists(file_path):\n",
    "    print(f\" This file {file_path} )exists.\")\n",
    "else:\n",
    "    print(f\"The file {file_path} does not exist.\")\n"
   ]
  },
  {
   "cell_type": "code",
   "execution_count": null,
   "id": "50b0bade-0799-4a7a-b1eb-4d4a85c272c3",
   "metadata": {},
   "outputs": [],
   "source": []
  },
  {
   "cell_type": "markdown",
   "id": "dfb379cf-2b29-42b6-982a-01294b5c8ca1",
   "metadata": {},
   "source": [
    "Delit a file using python?"
   ]
  },
  {
   "cell_type": "code",
   "execution_count": 210,
   "id": "6e1949e0-1531-4997-a7b9-cc9eb2d0620b",
   "metadata": {},
   "outputs": [],
   "source": [
    "file=open(\"blank or dummy.txt\", 'w')"
   ]
  },
  {
   "cell_type": "code",
   "execution_count": 212,
   "id": "e12fbbc1-40ad-4fa3-bd1e-3e234b9c029d",
   "metadata": {},
   "outputs": [
    {
     "data": {
      "text/plain": [
       "30"
      ]
     },
     "execution_count": 212,
     "metadata": {},
     "output_type": "execute_result"
    }
   ],
   "source": [
    "file.write(\"this file is created to delit\\n\")"
   ]
  },
  {
   "cell_type": "code",
   "execution_count": 213,
   "id": "2cad4f8b-3821-4a31-953a-b7c930eaa15f",
   "metadata": {},
   "outputs": [],
   "source": [
    "file.close()"
   ]
  },
  {
   "cell_type": "code",
   "execution_count": 214,
   "id": "2b87b2fb-ddc1-44d3-a304-9918db425ea5",
   "metadata": {},
   "outputs": [
    {
     "data": {
      "text/plain": [
       "True"
      ]
     },
     "execution_count": 214,
     "metadata": {},
     "output_type": "execute_result"
    }
   ],
   "source": [
    "file.closed"
   ]
  },
  {
   "cell_type": "code",
   "execution_count": 216,
   "id": "4790bab1-8905-4dca-8296-ddfbda932dc2",
   "metadata": {},
   "outputs": [
    {
     "name": "stdout",
     "output_type": "stream",
     "text": [
      "this file is created to delit\n",
      "\n"
     ]
    }
   ],
   "source": [
    "with open(\"blank or dummy.txt\", 'r') as file:\n",
    "    blank= file.read()\n",
    "print(blank)"
   ]
  },
  {
   "cell_type": "code",
   "execution_count": 218,
   "id": "885fe7a2-5a87-4c95-a781-c22783242999",
   "metadata": {},
   "outputs": [
    {
     "name": "stdout",
     "output_type": "stream",
     "text": [
      "The file blank or dummy.txt has been deleted.\n"
     ]
    }
   ],
   "source": [
    "# Specify the file path\n",
    "file_path = \"blank or dummy.txt\"\n",
    "\n",
    "# Check if the file exists before attempting to delete it\n",
    "if os.path.exists(file_path):\n",
    "    os.remove(file_path)\n",
    "    print(f\"The file {file_path} has been deleted.\")\n",
    "else:\n",
    "    print(f\"The file {file_path} does not exist.\")\n"
   ]
  },
  {
   "cell_type": "code",
   "execution_count": null,
   "id": "941ed78a-ac93-4eb2-bd78-34deb24f18cf",
   "metadata": {},
   "outputs": [],
   "source": []
  }
 ],
 "metadata": {
  "kernelspec": {
   "display_name": "Python 3 (ipykernel)",
   "language": "python",
   "name": "python3"
  },
  "language_info": {
   "codemirror_mode": {
    "name": "ipython",
    "version": 3
   },
   "file_extension": ".py",
   "mimetype": "text/x-python",
   "name": "python",
   "nbconvert_exporter": "python",
   "pygments_lexer": "ipython3",
   "version": "3.10.8"
  }
 },
 "nbformat": 4,
 "nbformat_minor": 5
}
