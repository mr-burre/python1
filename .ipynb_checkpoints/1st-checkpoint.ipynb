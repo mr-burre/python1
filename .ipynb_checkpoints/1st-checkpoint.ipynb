{
 "cells": [
  {
   "cell_type": "code",
   "execution_count": 1,
   "id": "894f872e-b978-4989-9ad5-0c64a0c534a2",
   "metadata": {},
   "outputs": [],
   "source": [
    "# write a python function that takes a list of numbers as input and rerutns the sum of all even numbers in the list"
   ]
  },
  {
   "cell_type": "code",
   "execution_count": 3,
   "id": "ba8e6ce3-7a2f-4d73-b1db-b868efbd19e3",
   "metadata": {},
   "outputs": [
    {
     "name": "stdout",
     "output_type": "stream",
     "text": [
      "sum of even numbers:30\n"
     ]
    }
   ],
   "source": [
    "def sum_of_all_even(numbers):\n",
    "    even_sum= 0\n",
    "    for num in numbers:\n",
    "        if num % 2 ==0:\n",
    "            even_sum += num\n",
    "    return even_sum\n",
    "my_list = [2, 4, 6, 8, 10]\n",
    "result = sum_of_all_even(my_list)\n",
    "print(f\"sum of even numbers:{result}\")\n"
   ]
  },
  {
   "cell_type": "code",
   "execution_count": 4,
   "id": "00fc5045-27a7-4bb5-8d6c-b028d728ae57",
   "metadata": {},
   "outputs": [
    {
     "name": "stdout",
     "output_type": "stream",
     "text": [
      "sum of odd numbers:6\n"
     ]
    }
   ],
   "source": [
    "def sum_of_all_odd(numbers):\n",
    "    odd_sum=0\n",
    "    for num in numbers:\n",
    "        if num % 3 ==0:\n",
    "            odd_sum +=num\n",
    "    return odd_sum\n",
    "result=sum_of_all_odd(my_list)\n",
    "print(f\"sum of odd numbers:{result}\")"
   ]
  },
  {
   "cell_type": "code",
   "execution_count": 6,
   "id": "ab51f72e-deaa-4cd5-b354-5bd2843b6e75",
   "metadata": {},
   "outputs": [
    {
     "name": "stdout",
     "output_type": "stream",
     "text": [
      "sum of odd numbers:0\n"
     ]
    }
   ],
   "source": [
    "def multiplication(numbers):\n",
    "    odd_mult=0\n",
    "    for num in numbers:\n",
    "        if num % 3 ==0:\n",
    "            odd_mult *=num\n",
    "    return odd_mult\n",
    "result=multiplication(my_list)\n",
    "print(f\"sum of odd numbers:{result}\")\n",
    "    "
   ]
  },
  {
   "cell_type": "code",
   "execution_count": null,
   "id": "13596387-3b01-4966-a331-046276b0dcf5",
   "metadata": {},
   "outputs": [],
   "source": []
  }
 ],
 "metadata": {
  "kernelspec": {
   "display_name": "Python 3 (ipykernel)",
   "language": "python",
   "name": "python3"
  },
  "language_info": {
   "codemirror_mode": {
    "name": "ipython",
    "version": 3
   },
   "file_extension": ".py",
   "mimetype": "text/x-python",
   "name": "python",
   "nbconvert_exporter": "python",
   "pygments_lexer": "ipython3",
   "version": "3.10.8"
  }
 },
 "nbformat": 4,
 "nbformat_minor": 5
}
